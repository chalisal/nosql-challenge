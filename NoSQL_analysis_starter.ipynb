{
 "cells": [
  {
   "cell_type": "markdown",
   "id": "9a57c4c6",
   "metadata": {},
   "source": [
    "# Eat Safe, Love"
   ]
  },
  {
   "cell_type": "markdown",
   "id": "064ef857",
   "metadata": {},
   "source": [
    "## Notebook Set Up"
   ]
  },
  {
   "cell_type": "code",
   "execution_count": 16,
   "id": "3ecdd008",
   "metadata": {},
   "outputs": [],
   "source": [
    "from pymongo import MongoClient\n",
    "import pandas as pd\n",
    "from pprint import pprint"
   ]
  },
  {
   "cell_type": "code",
   "execution_count": 17,
   "id": "59390c4a",
   "metadata": {},
   "outputs": [],
   "source": [
    "# Create an instance of MongoClient\n",
    "mongo = MongoClient(port=27018)"
   ]
  },
  {
   "cell_type": "code",
   "execution_count": 18,
   "id": "71e373c1",
   "metadata": {},
   "outputs": [],
   "source": [
    "# assign the uk_food database to a variable name\n",
    "db = mongo['uk_food']"
   ]
  },
  {
   "cell_type": "code",
   "execution_count": 19,
   "id": "18ab463c",
   "metadata": {},
   "outputs": [
    {
     "name": "stdout",
     "output_type": "stream",
     "text": [
      "[]\n"
     ]
    }
   ],
   "source": [
    "# review the collections in our database\n",
    "print(db.list_collection_names())"
   ]
  },
  {
   "cell_type": "code",
   "execution_count": 20,
   "id": "11c9f11b",
   "metadata": {},
   "outputs": [],
   "source": [
    "# assign the collection to a variable\n",
    "establishments = db['establishments']"
   ]
  },
  {
   "cell_type": "markdown",
   "id": "d5671434",
   "metadata": {},
   "source": [
    "## Part 3: Exploratory Analysis\n",
    "Unless otherwise stated, for each question: \n",
    "* Use `count_documents` to display the number of documents contained in the result.\n",
    "* Display the first document in the results using `pprint`.\n",
    "* Convert the result to a Pandas DataFrame, print the number of rows in the DataFrame, and display the first 10 rows."
   ]
  },
  {
   "cell_type": "markdown",
   "id": "314bd884",
   "metadata": {},
   "source": [
    "### 1. Which establishments have a hygiene score equal to 20?"
   ]
  },
  {
   "cell_type": "code",
   "execution_count": 15,
   "id": "c2da7648",
   "metadata": {},
   "outputs": [
    {
     "name": "stdout",
     "output_type": "stream",
     "text": [
      "There are 0 number of documents in the result\n"
     ]
    }
   ],
   "source": [
    "# Find the establishments with a hygiene score of 20\n",
    "query ={'scores.Hygiene':{'$eq': 20}}\n",
    "results = establishments.find(query)\n",
    "# Use count_documents to display the number of documents in the result\n",
    "\n",
    "count_documents = establishments.count_documents(query)\n",
    "# Display the first document in the results using pprint\n",
    "\n",
    "print(f'There are {count_documents} number of documents in the result')"
   ]
  },
  {
   "cell_type": "code",
   "execution_count": null,
   "id": "a6e5cece",
   "metadata": {},
   "outputs": [],
   "source": [
    "# Convert the result to a Pandas DataFrame\n",
    "hygieneDf = pd.DataFrame(db.establishments.find(query))\n",
    "# Display the number of rows in the DataFrame\n",
    "print(\"There are \" + str(len(hygieneDf['BusinessName']))+ rows\")\n",
    "# Display the first 10 rows of the DataFrame\n",
    "hygieneDf.head(10)"
   ]
  },
  {
   "cell_type": "markdown",
   "id": "0ef4395a",
   "metadata": {},
   "source": [
    "### 2. Which establishments in London have a `RatingValue` greater than or equal to 4?"
   ]
  },
  {
   "cell_type": "code",
   "execution_count": 21,
   "id": "93c63829",
   "metadata": {},
   "outputs": [
    {
     "name": "stdout",
     "output_type": "stream",
     "text": [
      "There are 0 establishments in London with a rating of 4+\n",
      "None\n"
     ]
    }
   ],
   "source": [
    "# Find the establishments with London as the Local Authority and has a RatingValue greater than or equal to 4.\n",
    "query = {\"RatingValue\":{\"$gte\":4}, \"LocalAuthorityName\":{'$regex':\"London\"}}\n",
    "\n",
    "# Use count_documents to display the number of documents in the result\n",
    "print(f'There are {db.establishments.count_documents(query)} establishments in London with a rating of 4+')\n",
    "\n",
    "# Display the first document in the results using pprint\n",
    "pprint(db.establishments.find_one(query))\n"
   ]
  },
  {
   "cell_type": "code",
   "execution_count": null,
   "id": "07e24ccb",
   "metadata": {},
   "outputs": [],
   "source": [
    "# Convert the result to a Pandas DataFrame\n",
    "LondonDf = pd.DataFrame(db.establishments.find(query))\n",
    "# Display the number of rows in the DataFrame\n",
    "print(\"There are \" + str(len(LondonDf['BusinessName']))+ \" rows\")\n",
    "# Display the first 10 rows of the DataFrame\n",
    "LondonDf.head(10)\n"
   ]
  },
  {
   "cell_type": "markdown",
   "id": "4e570caf",
   "metadata": {},
   "source": [
    "### 3. What are the top 5 establishments with a `RatingValue` rating value of 5, sorted by lowest hygiene score, nearest to the new restaurant added, \"Penang Flavours\"?"
   ]
  },
  {
   "cell_type": "code",
   "execution_count": null,
   "id": "7f599f3d",
   "metadata": {},
   "outputs": [],
   "source": [
    "# Search within 0.01 degree on either side of the latitude and longitude.\n",
    "# Rating value must equal 5\n",
    "\n",
    "penang_query = {\"BusinessName\":'Penang Flavours'}\n",
    "penang = db.establishments.find(penang_query)\n",
    "for i in penang:\n",
    "    geo = i['geocode']\n",
    "lat = geo['latitude']\n",
    "long = geo['longitude']\n",
    "degree_search = 0.01\n",
    "query = {'geocode.latitude':{'$gte':lat-degree_search, '$lte':lat+degree_search},\\\n",
    "               'geocode.longitude':{'$gte':long-degree_search,'$lte':long+degree_search},\\\n",
    "         \"RatingValue\":5,# Rating value must equal 5\n",
    "               }\n",
    "\n",
    "query =\n",
    "# Sort by hygiene score\n",
    "\n",
    "sort = [('scores.Hygiene',1)]\n",
    "limit = 5\n",
    "\n",
    "results = db.establishments.find(query).sort(sort).limit(limit)\n",
    "# Print the results\n",
    "pprint(list(results))\n"
   ]
  },
  {
   "cell_type": "code",
   "execution_count": null,
   "id": "a6ad16f7",
   "metadata": {},
   "outputs": [],
   "source": [
    "# Convert result to Pandas DataFrame\n",
    "near_df = pd.DataFrame(db.establishments.find(query).sort(sort).limit(limit))\n",
    "near_df"
   ]
  },
  {
   "cell_type": "markdown",
   "id": "67281254",
   "metadata": {},
   "source": [
    "### 4. How many establishments in each Local Authority area have a hygiene score of 0?"
   ]
  },
  {
   "cell_type": "code",
   "execution_count": null,
   "id": "4eeb227e",
   "metadata": {},
   "outputs": [],
   "source": [
    "# Create a pipeline that:\n",
    "# 1. Matches establishments with a hygiene score of 0\n",
    "match_query = {'$match':{scores.\"Hygiene\":0}}\n",
    "# 2. Groups the matches by Local Authority\n",
    "group_query = {'group':{'_id':'$LocalAuthorityName', 'count':{'sum':1}}}\n",
    "# 3. Sorts the matches from highest to lowest\n",
    "sort = {'$sort':{'count':-1}}\n",
    "# Print the number of documents in the result\n",
    "pipeline =[match_query,group_query,sort]\n",
    "results = list(db.establishments.aggregate(pipeline))\n",
    "pprint(len(results))\n",
    "# Print the first 10 results\n",
    "pprint(results[0:10])"
   ]
  },
  {
   "cell_type": "code",
   "execution_count": null,
   "id": "d8aab364",
   "metadata": {},
   "outputs": [],
   "source": [
    "# Convert the result to a Pandas DataFrame\n",
    "pipeDf = pd.DataFrame(db.establishments.aggregate(pipeline))\n",
    "# Display the number of rows in the DataFrame\n",
    "print(\"There are \" + str(len(pipeDf[\"_id\"])) + \"documents that match the query\")\n",
    "# Display the first 10 rows of the DataFrame\n",
    "pipeDf.head(10)"
   ]
  }
 ],
 "metadata": {
  "kernelspec": {
   "display_name": "Python 3 (ipykernel)",
   "language": "python",
   "name": "python3"
  },
  "language_info": {
   "codemirror_mode": {
    "name": "ipython",
    "version": 3
   },
   "file_extension": ".py",
   "mimetype": "text/x-python",
   "name": "python",
   "nbconvert_exporter": "python",
   "pygments_lexer": "ipython3",
   "version": "3.11.5"
  }
 },
 "nbformat": 4,
 "nbformat_minor": 5
}
